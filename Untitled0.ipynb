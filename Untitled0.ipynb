{
  "nbformat": 4,
  "nbformat_minor": 0,
  "metadata": {
    "colab": {
      "provenance": [],
      "authorship_tag": "ABX9TyPNEmmLYh1skdI8byU6HB4S",
      "include_colab_link": true
    },
    "kernelspec": {
      "name": "python3",
      "display_name": "Python 3"
    },
    "language_info": {
      "name": "python"
    }
  },
  "cells": [
    {
      "cell_type": "markdown",
      "metadata": {
        "id": "view-in-github",
        "colab_type": "text"
      },
      "source": [
        "<a href=\"https://colab.research.google.com/github/Andre-LCs/Andre-LCs/blob/main/Untitled0.ipynb\" target=\"_parent\"><img src=\"https://colab.research.google.com/assets/colab-badge.svg\" alt=\"Open In Colab\"/></a>"
      ]
    },
    {
      "cell_type": "code",
      "execution_count": 1,
      "metadata": {
        "colab": {
          "base_uri": "https://localhost:8080/"
        },
        "id": "Kh_OB0RzqefX",
        "outputId": "0b3d66a7-1cd5-43d2-90d3-803a7cc58ce7"
      },
      "outputs": [
        {
          "output_type": "stream",
          "name": "stdout",
          "text": [
            "Bem-vindo ao ChatFutebol! Faça perguntas sobre Flamengo, Corinthians ou Palmeiras.\n",
            "Digite 'sair' para encerrar.\n",
            "\n",
            "Faça sua pergunta: Quando o Flamengo foi fundado?\n",
            "Resposta: O Clube de Regatas do Flamengo foi fundado em 17 de novembro de 1895. \n",
            "\n",
            "Faça sua pergunta: Quantos títulos tem o Corinthians?\n",
            "Resposta: O Corinthians possui 7 Campeonatos Brasileiros e uma Copa Libertadores da América (2012). \n",
            "\n",
            "Faça sua pergunta: O Palmeiras tem Mundial?\n",
            "Resposta: Desculpe, não entendi a pergunta. Tente perguntar sobre fundação, títulos ou estádio. \n",
            "\n",
            "Faça sua pergunta: Onde o Palmeiras joga\n",
            "Resposta: O estádio do Palmeiras é o Allianz Parque, em São Paulo. \n",
            "\n",
            "Faça sua pergunta: sair\n",
            "Até a próxima!\n"
          ]
        }
      ],
      "source": [
        "# Dicionário com informações sobre alguns times\n",
        "dados_times = {\n",
        "    \"flamengo\": {\n",
        "        \"fundação\": \"O Clube de Regatas do Flamengo foi fundado em 17 de novembro de 1895.\",\n",
        "        \"títulos\": \"O Flamengo tem diversos títulos, incluindo 8 Campeonatos Brasileiros e 3 Copas Libertadores da América.\",\n",
        "        \"estádio\": \"O Flamengo manda seus jogos no Maracanã, no Rio de Janeiro.\",\n",
        "    },\n",
        "    \"corinthians\": {\n",
        "        \"fundação\": \"O Sport Club Corinthians Paulista foi fundado em 1º de setembro de 1910.\",\n",
        "        \"títulos\": \"O Corinthians possui 7 Campeonatos Brasileiros e uma Copa Libertadores da América (2012).\",\n",
        "        \"estádio\": \"O estádio do Corinthians é a Neo Química Arena, em São Paulo.\",\n",
        "    },\n",
        "    \"palmeiras\": {\n",
        "        \"fundação\": \"A Sociedade Esportiva Palmeiras foi fundada em 26 de agosto de 1914.\",\n",
        "        \"títulos\": \"O Palmeiras é o maior campeão do Campeonato Brasileiro, com 12 títulos. Também tem 3 Copas Libertadores.\",\n",
        "        \"estádio\": \"O estádio do Palmeiras é o Allianz Parque, em São Paulo.\",\n",
        "    }\n",
        "}\n",
        "\n",
        "def responder_pergunta(time, pergunta):\n",
        "    time = time.lower()\n",
        "    pergunta = pergunta.lower()\n",
        "\n",
        "    if time not in dados_times:\n",
        "        return f\"Desculpe, ainda não tenho informações sobre o time '{time}'.\"\n",
        "\n",
        "    if \"fundação\" in pergunta or \"foi fundado\" in pergunta:\n",
        "        return dados_times[time][\"fundação\"]\n",
        "    elif \"títulos\" in pergunta or \"ganhou\" in pergunta:\n",
        "        return dados_times[time][\"títulos\"]\n",
        "    elif \"estádio\" in pergunta or \"joga\" in pergunta:\n",
        "        return dados_times[time][\"estádio\"]\n",
        "    else:\n",
        "        return \"Desculpe, não entendi a pergunta. Tente perguntar sobre fundação, títulos ou estádio.\"\n",
        "\n",
        "# Loop principal\n",
        "print(\"Bem-vindo ao ChatFutebol! Faça perguntas sobre Flamengo, Corinthians ou Palmeiras.\")\n",
        "print(\"Digite 'sair' para encerrar.\\n\")\n",
        "\n",
        "while True:\n",
        "    entrada = input(\"Faça sua pergunta: \")\n",
        "\n",
        "    if entrada.lower() == \"sair\":\n",
        "        print(\"Até a próxima!\")\n",
        "        break\n",
        "\n",
        "    # Tentando identificar o time na pergunta\n",
        "    time_encontrado = None\n",
        "    for time in dados_times:\n",
        "        if time in entrada.lower():\n",
        "            time_encontrado = time\n",
        "            break\n",
        "\n",
        "    if time_encontrado:\n",
        "        resposta = responder_pergunta(time_encontrado, entrada)\n",
        "    else:\n",
        "        resposta = \"Por favor, mencione um time na sua pergunta (ex: Flamengo, Corinthians, Palmeiras).\"\n",
        "\n",
        "    print(\"Resposta:\", resposta, \"\\n\")\n"
      ]
    },
    {
      "cell_type": "code",
      "source": [],
      "metadata": {
        "id": "Z9r9XSNUqmzc"
      },
      "execution_count": null,
      "outputs": []
    }
  ]
}